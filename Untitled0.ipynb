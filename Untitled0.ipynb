{
  "nbformat": 4,
  "nbformat_minor": 0,
  "metadata": {
    "colab": {
      "provenance": [],
      "authorship_tag": "ABX9TyNT//ooJ2Zjq005REiE2jn+",
      "include_colab_link": true
    },
    "kernelspec": {
      "name": "python3",
      "display_name": "Python 3"
    },
    "language_info": {
      "name": "python"
    }
  },
  "cells": [
    {
      "cell_type": "markdown",
      "metadata": {
        "id": "view-in-github",
        "colab_type": "text"
      },
      "source": [
        "<a href=\"https://colab.research.google.com/github/asherfrankluna/PLNG211-QC/blob/main/Untitled0.ipynb\" target=\"_parent\"><img src=\"https://colab.research.google.com/assets/colab-badge.svg\" alt=\"Open In Colab\"/></a>"
      ]
    },
    {
      "cell_type": "code",
      "execution_count": null,
      "metadata": {
        "id": "5tsZmTG-kgHl"
      },
      "outputs": [],
      "source": [
        "#Create a Rectangle class in Python language with length and width attributes,\n",
        "#Perimeter() and Area() as methods to compute for the perimeter and area of a rectangle.\n",
        "\n",
        "class Rectangle:\n",
        "  def init(self,length,width):\n",
        "    self.length = length\n",
        "    self.width = width\n",
        "\n",
        "  def Perimeter(self):\n",
        "    return 2self.length + 2self.width\n",
        "\n",
        "  def Area(self):\n",
        "    return self.length*self.width\n",
        "\n",
        "  #def display(self):\n",
        "    #print(\"The perimeter of the rectangle is:\",self.Perimeter())\n",
        "    #print(\"The area of the rectangle is:\",self.Area())\n",
        "\n",
        "rectangle=Rectangle(14,7)\n",
        "square = Square(2,2)\n",
        "square.Perimeter()\n",
        "print(\"The area of the rectangle is:\",rectangle.Area())\n",
        "print(\"The perimeter of the rectangle is:\",rectangle.Perimeter())\n",
        "#rectangle.display()"
      ]
    },
    {
      "cell_type": "code",
      "source": [
        "array = [1,2,3,4,5]\n",
        "x=pow(2,2)\n",
        "array.append(6)\n",
        "print(array)\n",
        "print(x)"
      ],
      "metadata": {
        "colab": {
          "base_uri": "https://localhost:8080/"
        },
        "id": "j72MFbaxlTlX",
        "outputId": "1470c3e4-2cae-44a9-fa9b-da80d13a3373"
      },
      "execution_count": 2,
      "outputs": [
        {
          "output_type": "stream",
          "name": "stdout",
          "text": [
            "[1, 2, 3, 4, 5, 6]\n",
            "4\n"
          ]
        }
      ]
    },
    {
      "cell_type": "code",
      "source": [
        "class Person:\n",
        "  def init (self,name,age,school):\n",
        "    self.name = name\n",
        "    self.age = age\n",
        "    self.school = school\n",
        "\n",
        "  def display(self):\n",
        "    print(\"The name of the person is:\",self.name)\n",
        "    print(\"The age of the person is\",self.age)\n",
        "    print(\"The school of the person is:\",self.school)\n",
        "class Student(Person):\n",
        "  pass\n",
        "person = Person(\"Ana\",18,\"OLFU\")\n",
        "student = Student(\"Rey\",19,\"Adamson University\")\n",
        "person.display()\n",
        "student.display()"
      ],
      "metadata": {
        "id": "aqKSMTTilV07"
      },
      "execution_count": null,
      "outputs": []
    }
  ]
}