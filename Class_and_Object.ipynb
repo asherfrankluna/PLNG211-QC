{
  "nbformat": 4,
  "nbformat_minor": 0,
  "metadata": {
    "colab": {
      "provenance": [],
      "authorship_tag": "ABX9TyNMXZzBOctTFTy/Pl3MhaMl",
      "include_colab_link": true
    },
    "kernelspec": {
      "name": "python3",
      "display_name": "Python 3"
    },
    "language_info": {
      "name": "python"
    }
  },
  "cells": [
    {
      "cell_type": "markdown",
      "metadata": {
        "id": "view-in-github",
        "colab_type": "text"
      },
      "source": [
        "<a href=\"https://colab.research.google.com/github/asherfrankluna/PLNG211-QC/blob/main/Class_and_Object.ipynb\" target=\"_parent\"><img src=\"https://colab.research.google.com/assets/colab-badge.svg\" alt=\"Open In Colab\"/></a>"
      ]
    },
    {
      "cell_type": "code",
      "execution_count": null,
      "metadata": {
        "colab": {
          "base_uri": "https://localhost:8080/"
        },
        "id": "n0RPCIBgLvu-",
        "outputId": "936b3cb1-a968-46a7-8451-8de53895163a"
      },
      "outputs": [
        {
          "output_type": "stream",
          "name": "stdout",
          "text": [
            "The name of the person is:  Asher\n",
            "The age of the person is:  19\n",
            "The name of the studen is:  Cole\n",
            "The age of the student is:  26\n",
            "The name of the teacher is:  Dylan\n",
            "The age of the teacher is:  26\n",
            "The student Cole26\n"
          ]
        }
      ],
      "source": [
        "class Person:\n",
        "  def __init__(self,name,age):\n",
        "    self.name = name  #attributes\n",
        "    self.age = age\n",
        "class Student(Person):\n",
        "  pass\n",
        "\n",
        "class Teacher(Person):\n",
        "  pass\n",
        "  def Name(self):\n",
        "    print(\"The person is\"+ self.name)\n",
        "person1 = Person(\"Asher\",19)  #instantation/add value to an attribute\n",
        "print(\"The name of the person is: \",person1.name)\n",
        "print(\"The age of the person is: \",person1.age)\n",
        "\n",
        "person2 = Student(\"Cole\",26)\n",
        "print(\"The name of the studen is: \",person2.name)\n",
        "print(\"The age of the student is: \",person2.age)\n",
        "\n",
        "person3 = Teacher(\"Dylan\",26)\n",
        "print(\"The name of the teacher is: \",person3.name)\n",
        "print(\"The age of the teacher is: \",person3.age)\n",
        "\n"
      ]
    },
    {
      "cell_type": "code",
      "source": [
        "person2.age = 26 #Modifying of object properties\n",
        "print(\"The name and age of student \"+ person2.name +\" is \" + str(person2.age))"
      ],
      "metadata": {
        "colab": {
          "base_uri": "https://localhost:8080/"
        },
        "id": "q7sIvm3lX6sV",
        "outputId": "93abeaa0-39e6-424f-c071-b7abb3aabf18"
      },
      "execution_count": null,
      "outputs": [
        {
          "output_type": "stream",
          "name": "stdout",
          "text": [
            "The name and age of student Cole is 26\n"
          ]
        }
      ]
    },
    {
      "cell_type": "code",
      "source": [
        "print(\"The name of the teacher is\" ,person3.name)\n",
        "person3.age=25\n",
        "print(\"The age of the teacher is: \",person3.age)\n",
        "del person3.age\n",
        "print(person3.age)\n"
      ],
      "metadata": {
        "colab": {
          "base_uri": "https://localhost:8080/",
          "height": 235
        },
        "id": "NBlY9We4YpXu",
        "outputId": "bf7cf526-f879-44fd-f906-32446337f476"
      },
      "execution_count": null,
      "outputs": [
        {
          "output_type": "stream",
          "name": "stdout",
          "text": [
            "The name of the teacher is Dylan\n",
            "The age of the teacher is:  25\n"
          ]
        },
        {
          "output_type": "error",
          "ename": "AttributeError",
          "evalue": "ignored",
          "traceback": [
            "\u001b[0;31m---------------------------------------------------------------------------\u001b[0m",
            "\u001b[0;31mAttributeError\u001b[0m                            Traceback (most recent call last)",
            "\u001b[0;32m<ipython-input-21-2b8c533cc5f8>\u001b[0m in \u001b[0;36m<module>\u001b[0;34m\u001b[0m\n\u001b[1;32m      3\u001b[0m \u001b[0mprint\u001b[0m\u001b[0;34m(\u001b[0m\u001b[0;34m\"The age of the teacher is: \"\u001b[0m\u001b[0;34m,\u001b[0m\u001b[0mperson3\u001b[0m\u001b[0;34m.\u001b[0m\u001b[0mage\u001b[0m\u001b[0;34m)\u001b[0m\u001b[0;34m\u001b[0m\u001b[0;34m\u001b[0m\u001b[0m\n\u001b[1;32m      4\u001b[0m \u001b[0;32mdel\u001b[0m \u001b[0mperson3\u001b[0m\u001b[0;34m.\u001b[0m\u001b[0mage\u001b[0m\u001b[0;34m\u001b[0m\u001b[0;34m\u001b[0m\u001b[0m\n\u001b[0;32m----> 5\u001b[0;31m \u001b[0mprint\u001b[0m\u001b[0;34m(\u001b[0m\u001b[0mperson3\u001b[0m\u001b[0;34m.\u001b[0m\u001b[0mage\u001b[0m\u001b[0;34m)\u001b[0m\u001b[0;34m\u001b[0m\u001b[0;34m\u001b[0m\u001b[0m\n\u001b[0m",
            "\u001b[0;31mAttributeError\u001b[0m: 'Teacher' object has no attribute 'age'"
          ]
        }
      ]
    },
    {
      "cell_type": "code",
      "source": [
        "#App1. Write a rectangle class in python language with length and width as attributes\n",
        "#Create a Perimeter() and Area() as methods to compute for the perimiter and are of triangle\n",
        "\n",
        "class rectangle():\n",
        "    def __init__(rec, width, length):\n",
        "        rec.width = width\n",
        "        rec.length = length\n",
        "\n",
        "    def perimeter(rec):\n",
        "      return (rec.width + rec.length) * 2\n",
        "\n",
        "    def area(rec):\n",
        "        return rec.width * rec.length\n",
        "\n",
        "recWidth = int(input(\"Enter width of rectangle: \"))\n",
        "recLength = int(input(\"Enter length of rectangle: \"))\n",
        "\n",
        "rectangleAreaPerim = rectangle(recWidth, recLength)\n",
        "\n",
        "print(\"The area of rectangle is :\", rectangleAreaPerim.area())\n",
        "print(\"The perimeter of rectangle is :\", rectangleAreaPerim.perimeter())"
      ],
      "metadata": {
        "id": "0MYmrkkMZ44F",
        "colab": {
          "base_uri": "https://localhost:8080/"
        },
        "outputId": "9d40d068-8d88-4581-89de-4f912cc38cb5"
      },
      "execution_count": 1,
      "outputs": [
        {
          "output_type": "stream",
          "name": "stdout",
          "text": [
            "Enter width of rectangle: 42\n",
            "Enter length of rectangle: 35\n",
            "The area of rectangle is : 1470\n",
            "The perimeter of rectangle is : 154\n"
          ]
        }
      ]
    }
  ]
}