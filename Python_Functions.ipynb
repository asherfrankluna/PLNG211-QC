{
  "nbformat": 4,
  "nbformat_minor": 0,
  "metadata": {
    "colab": {
      "provenance": [],
      "authorship_tag": "ABX9TyOB1/1oEiLVcFo+m7tb0UbA",
      "include_colab_link": true
    },
    "kernelspec": {
      "name": "python3",
      "display_name": "Python 3"
    },
    "language_info": {
      "name": "python"
    }
  },
  "cells": [
    {
      "cell_type": "markdown",
      "metadata": {
        "id": "view-in-github",
        "colab_type": "text"
      },
      "source": [
        "<a href=\"https://colab.research.google.com/github/asherfrankluna/PLNG211-QC/blob/main/Python_Functions.ipynb\" target=\"_parent\"><img src=\"https://colab.research.google.com/assets/colab-badge.svg\" alt=\"Open In Colab\"/></a>"
      ]
    },
    {
      "cell_type": "markdown",
      "source": [
        "#Python Functions"
      ],
      "metadata": {
        "id": "pNdTWBIFIU09"
      }
    },
    {
      "cell_type": "code",
      "execution_count": null,
      "metadata": {
        "colab": {
          "base_uri": "https://localhost:8080/"
        },
        "id": "gfv3HxIVIS3K",
        "outputId": "998548b8-c9ab-49c7-aa5a-ee03b72e1093"
      },
      "outputs": [
        {
          "output_type": "stream",
          "name": "stdout",
          "text": [
            "76\n",
            "Celsius 24.44\n",
            "Kelvin 297.59\n"
          ]
        }
      ],
      "source": [
        "\n",
        "#Writing your own function/conversion\n",
        "def convert_to_celsius(fahrenheit):\n",
        "  return(fahrenheit-32) * 5/9\n",
        "\n",
        "def convert_to_kelvin(fahrenheit):\n",
        "  return((fahrenheit - 32) *5/9) +273.15\n",
        "fahrenheit = int(input())\n",
        "\n",
        "print(\"Celsius\",round(convert_to_celsius(fahrenheit),2))\n",
        "print(\"Kelvin\",round(convert_to_kelvin(fahrenheit),2))"
      ]
    },
    {
      "cell_type": "code",
      "source": [
        "def my_function(fname):\n",
        "  return(fname + \"Luna\")\n",
        "\n",
        "print(my_function(\"Asher\"))\n",
        "print(my_function(\"Luna\"))\n",
        "print(my_function(\"Frank\"))"
      ],
      "metadata": {
        "colab": {
          "base_uri": "https://localhost:8080/"
        },
        "id": "eDHQ4FTwT0dq",
        "outputId": "c18e053b-46a5-4fa2-db72-e631fa8606dd"
      },
      "execution_count": null,
      "outputs": [
        {
          "output_type": "stream",
          "name": "stdout",
          "text": [
            "AsherLuna\n",
            "LunaLuna\n",
            "FrankLuna\n"
          ]
        }
      ]
    },
    {
      "cell_type": "code",
      "source": [
        "#Exercise 1\n",
        "\n",
        "print(min(2,3,4))\n",
        "print(max(2,-3,4,7,-5))\n",
        "print(max(2,-3, min(4,7),-5))"
      ],
      "metadata": {
        "id": "-E8bfK_tUXja",
        "colab": {
          "base_uri": "https://localhost:8080/"
        },
        "outputId": "0688db4f-8bd8-46e6-c676-2a7a319aac83"
      },
      "execution_count": 6,
      "outputs": [
        {
          "output_type": "stream",
          "name": "stdout",
          "text": [
            "2\n",
            "7\n",
            "4\n"
          ]
        }
      ]
    },
    {
      "cell_type": "code",
      "source": [
        "#Exercise 2\n",
        "\n",
        "def sum(num1,num2,num3):\n",
        "  return (num1 + num2 + num3)\n",
        "\n",
        "def average(num1,num2,num3):\n",
        "  return((num1+num2+num3)/3)\n",
        "\n",
        "def sumSquare(num1,num2,num3):\n",
        "  return(pow(num1,2)+pow(num2,2)+ pow(num3,2))\n",
        "\n",
        "num1 =int(input(\"Input number 1: \"))\n",
        "num2 =int(input(\"Input number 2: \"))\n",
        "num3 =int(input(\"Input number 3: \"))\n",
        "\n",
        "print(\"The sum of three numbers are: \",sum(num1,num2,num3))\n",
        "print(\"The average of three numbers are: \",round(average(num1,num2,num3)))\n",
        "print(\"The sum of square of three numbers are: \",round(sumSquare(num1,num2,num3)))"
      ],
      "metadata": {
        "colab": {
          "base_uri": "https://localhost:8080/"
        },
        "id": "ZJrLVniKuoOT",
        "outputId": "2066aec0-fa7b-492e-ed8d-0a7f7402fabe"
      },
      "execution_count": 7,
      "outputs": [
        {
          "output_type": "stream",
          "name": "stdout",
          "text": [
            "Input number 1: 87\n",
            "Input number 2: 98\n",
            "Input number 3: 95\n",
            "The sum of three numbers are:  280\n",
            "The average of three numbers are:  93\n",
            "The sum of square of three numbers are:  26198\n"
          ]
        }
      ]
    }
  ]
}