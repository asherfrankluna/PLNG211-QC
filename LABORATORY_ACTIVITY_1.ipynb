{
  "nbformat": 4,
  "nbformat_minor": 0,
  "metadata": {
    "colab": {
      "provenance": [],
      "authorship_tag": "ABX9TyOVp4As/+UagpMUco9m9oij",
      "include_colab_link": true
    },
    "kernelspec": {
      "name": "python3",
      "display_name": "Python 3"
    },
    "language_info": {
      "name": "python"
    }
  },
  "cells": [
    {
      "cell_type": "markdown",
      "metadata": {
        "id": "view-in-github",
        "colab_type": "text"
      },
      "source": [
        "<a href=\"https://colab.research.google.com/github/asherfrankluna/PLNG211-QC/blob/main/LABORATORY_ACTIVITY_1.ipynb\" target=\"_parent\"><img src=\"https://colab.research.google.com/assets/colab-badge.svg\" alt=\"Open In Colab\"/></a>"
      ]
    },
    {
      "cell_type": "code",
      "execution_count": 11,
      "metadata": {
        "colab": {
          "base_uri": "https://localhost:8080/"
        },
        "id": "5oIN69cMielO",
        "outputId": "e8ee751c-be03-4ee3-f638-1f2922e1949a"
      },
      "outputs": [
        {
          "output_type": "stream",
          "name": "stdout",
          "text": [
            "An array of 10 integers:\n",
            "1\n",
            "2\n",
            "3\n",
            "4\n",
            "5\n",
            "6\n",
            "7\n",
            "8\n",
            "9\n",
            "10\n",
            "The sum of 10 integers are: 55\n"
          ]
        }
      ],
      "source": [
        "#1 \n",
        "numberArrays = [1, 2, 3, 4, 5, 6, 7, 8, 9, 10]\n",
        "sum = 0\n",
        "print(\"An array of 10 integers:\")\n",
        "for x in numberArrays:\n",
        "  print(x)\n",
        "\n",
        "sum = numberArrays[0] + numberArrays[1] + numberArrays[2] + numberArrays[3] + numberArrays[4] + numberArrays[5] + numberArrays[6] + numberArrays[7] + numberArrays[8] + numberArrays[9] \n",
        "\n",
        "print(\"The sum of 10 integers are: \" + str(sum))"
      ]
    },
    {
      "cell_type": "code",
      "source": [
        "#2\n",
        "numberArrays = [1, 2, 3, 4 , 5, 6, 7, 8, 9, 10]\n",
        "print(\"Original array numbers:\")\n",
        "for x in numberArrays:\n",
        "  print(x)\n",
        "\n",
        "numberArrays.append(11)\n",
        "\n",
        "print(\"New array numbers:\")\n",
        "for x in numberArrays:\n",
        "  print(x)"
      ],
      "metadata": {
        "colab": {
          "base_uri": "https://localhost:8080/"
        },
        "id": "YeXTquZDkH31",
        "outputId": "5b5b94dc-7133-4536-f1d1-a6d250058528"
      },
      "execution_count": 12,
      "outputs": [
        {
          "output_type": "stream",
          "name": "stdout",
          "text": [
            "Original array numbers:\n",
            "1\n",
            "2\n",
            "3\n",
            "4\n",
            "5\n",
            "6\n",
            "7\n",
            "8\n",
            "9\n",
            "10\n",
            "New array numbers:\n",
            "1\n",
            "2\n",
            "3\n",
            "4\n",
            "5\n",
            "6\n",
            "7\n",
            "8\n",
            "9\n",
            "10\n",
            "11\n"
          ]
        }
      ]
    },
    {
      "cell_type": "code",
      "source": [
        "#3\n",
        "numberArrays = [1, 2, 3, 4 , 5, 6, 7, 8, 9, 10]\n",
        "print(\"Original array numbers:\")\n",
        "for x in numberArrays:\n",
        "  print(x)\n",
        "\n",
        "numberArrays.insert(1, 11)\n",
        "\n",
        "print(\"New array numbers:\")\n",
        "for x in numberArrays:\n",
        "  print(x)"
      ],
      "metadata": {
        "colab": {
          "base_uri": "https://localhost:8080/"
        },
        "id": "M6ddv3JmlNVm",
        "outputId": "f682d0d4-153b-4571-b671-1ebeab49dccb"
      },
      "execution_count": 14,
      "outputs": [
        {
          "output_type": "stream",
          "name": "stdout",
          "text": [
            "Original array numbers:\n",
            "1\n",
            "2\n",
            "3\n",
            "4\n",
            "5\n",
            "6\n",
            "7\n",
            "8\n",
            "9\n",
            "10\n",
            "New array numbers:\n",
            "1\n",
            "11\n",
            "2\n",
            "3\n",
            "4\n",
            "5\n",
            "6\n",
            "7\n",
            "8\n",
            "9\n",
            "10\n"
          ]
        }
      ]
    },
    {
      "cell_type": "code",
      "source": [
        "#4\n",
        "\n",
        "numberArrays = [5, 4, 3, 2, 1]\n",
        "print(\"Original array numbers:\")\n",
        "for x in numberArrays:\n",
        "  print(x)\n",
        "\n",
        "numberArrays.reverse()\n",
        "print(\"Reversed array numbers:\")\n",
        "for x in numberArrays:\n",
        "  print(x)"
      ],
      "metadata": {
        "colab": {
          "base_uri": "https://localhost:8080/"
        },
        "id": "ntVWn_ozlVE8",
        "outputId": "4bab763d-0efa-4717-9167-6b70397f568d"
      },
      "execution_count": 15,
      "outputs": [
        {
          "output_type": "stream",
          "name": "stdout",
          "text": [
            "Original array numbers:\n",
            "5\n",
            "4\n",
            "3\n",
            "2\n",
            "1\n",
            "Reversed array numbers:\n",
            "1\n",
            "2\n",
            "3\n",
            "4\n",
            "5\n"
          ]
        }
      ]
    },
    {
      "cell_type": "code",
      "source": [
        "#5\n",
        "\n",
        "numberArrays = [5, 4, 3 , 2, 1]\n",
        "print(len(numberArrays))"
      ],
      "metadata": {
        "colab": {
          "base_uri": "https://localhost:8080/"
        },
        "id": "tbo-_laplahu",
        "outputId": "a1cfca58-2f56-408f-d33b-569a82ae0e07"
      },
      "execution_count": 16,
      "outputs": [
        {
          "output_type": "stream",
          "name": "stdout",
          "text": [
            "5\n"
          ]
        }
      ]
    }
  ]
}