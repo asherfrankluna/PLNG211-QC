{
  "nbformat": 4,
  "nbformat_minor": 0,
  "metadata": {
    "colab": {
      "provenance": [],
      "collapsed_sections": [],
      "authorship_tag": "ABX9TyP846t3E/bbc0pH7JmJs36u",
      "include_colab_link": true
    },
    "kernelspec": {
      "name": "python3",
      "display_name": "Python 3"
    },
    "language_info": {
      "name": "python"
    }
  },
  "cells": [
    {
      "cell_type": "markdown",
      "metadata": {
        "id": "view-in-github",
        "colab_type": "text"
      },
      "source": [
        "<a href=\"https://colab.research.google.com/github/asherfrankluna/PLNG211-QC/blob/main/Asynchronus_Activity.ipynb\" target=\"_parent\"><img src=\"https://colab.research.google.com/assets/colab-badge.svg\" alt=\"Open In Colab\"/></a>"
      ]
    },
    {
      "cell_type": "code",
      "execution_count": 1,
      "metadata": {
        "id": "luQ3o55XM3yU",
        "colab": {
          "base_uri": "https://localhost:8080/"
        },
        "outputId": "fc5bfeb9-a000-4873-b3fd-27b709c5e52d"
      },
      "outputs": [
        {
          "output_type": "stream",
          "name": "stdout",
          "text": [
            "Net pay =  6300.0\n"
          ]
        }
      ],
      "source": [
        "Salary_rate = 600\n",
        "Salary = Salary_rate *15\n",
        "Taxable_amount = 0.3 * Salary\n",
        "Net_pay = Salary - Taxable_amount\n",
        "print(\"Net pay = \",Net_pay)"
      ]
    }
  ]
}