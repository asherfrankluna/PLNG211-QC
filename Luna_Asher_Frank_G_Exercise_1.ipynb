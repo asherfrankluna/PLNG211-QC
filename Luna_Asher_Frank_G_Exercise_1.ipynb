{
  "nbformat": 4,
  "nbformat_minor": 0,
  "metadata": {
    "colab": {
      "provenance": [],
      "authorship_tag": "ABX9TyNFzuPClOqxL9Cs3HB1cyjO",
      "include_colab_link": true
    },
    "kernelspec": {
      "name": "python3",
      "display_name": "Python 3"
    },
    "language_info": {
      "name": "python"
    }
  },
  "cells": [
    {
      "cell_type": "markdown",
      "metadata": {
        "id": "view-in-github",
        "colab_type": "text"
      },
      "source": [
        "<a href=\"https://colab.research.google.com/github/asherfrankluna/PLNG211-QC/blob/main/Luna_Asher_Frank_G_Exercise_1.ipynb\" target=\"_parent\"><img src=\"https://colab.research.google.com/assets/colab-badge.svg\" alt=\"Open In Colab\"/></a>"
      ]
    },
    {
      "cell_type": "markdown",
      "source": [
        "#EXERCISE 1\n",
        "\n",
        "1. Design an algorithm and the corresponding flowchart \n",
        "2. add the test scores as given below if the number is even: 26,49,98,87,62,75"
      ],
      "metadata": {
        "id": "Rooj2CkHMjby"
      }
    },
    {
      "cell_type": "code",
      "source": [
        "arr=[26,49,98,87,62,75]\n",
        "sum = 0\n",
        "for i in arr:\n",
        "  if i % 2==0:\n",
        "    sum = sum + i\n",
        "    print(sum)"
      ],
      "metadata": {
        "colab": {
          "base_uri": "https://localhost:8080/"
        },
        "id": "ENSwwLbjpaqT",
        "outputId": "5310c691-2eeb-41f4-c45a-3250b7541e67"
      },
      "execution_count": 34,
      "outputs": [
        {
          "output_type": "stream",
          "name": "stdout",
          "text": [
            "26\n",
            "124\n",
            "186\n"
          ]
        }
      ]
    }
  ]
}