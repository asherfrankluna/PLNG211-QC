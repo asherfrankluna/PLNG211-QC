{
  "nbformat": 4,
  "nbformat_minor": 0,
  "metadata": {
    "colab": {
      "provenance": [],
      "collapsed_sections": [],
      "authorship_tag": "ABX9TyNO5chjRWI3ssL0gjsLxOvU",
      "include_colab_link": true
    },
    "kernelspec": {
      "name": "python3",
      "display_name": "Python 3"
    },
    "language_info": {
      "name": "python"
    }
  },
  "cells": [
    {
      "cell_type": "markdown",
      "metadata": {
        "id": "view-in-github",
        "colab_type": "text"
      },
      "source": [
        "<a href=\"https://colab.research.google.com/github/asherfrankluna/PLNG211-QC/blob/main/Introduction_to_Python_Programming.ipynb\" target=\"_parent\"><img src=\"https://colab.research.google.com/assets/colab-badge.svg\" alt=\"Open In Colab\"/></a>"
      ]
    },
    {
      "cell_type": "markdown",
      "source": [
        "#Python Indentation"
      ],
      "metadata": {
        "id": "D_1Q-zWirP19"
      }
    },
    {
      "cell_type": "code",
      "execution_count": 5,
      "metadata": {
        "colab": {
          "base_uri": "https://localhost:8080/"
        },
        "id": "VEO3xBjFoIwL",
        "outputId": "c8ba9aa8-db85-4fe1-89be-58e4476ed2b1"
      },
      "outputs": [
        {
          "output_type": "stream",
          "name": "stdout",
          "text": [
            "Five is greater than two!\n",
            "Hello,World\n"
          ]
        }
      ],
      "source": [
        "#This is an example of Python Indentation\n",
        "if 5>2:\n",
        "  print(\"Five is greater than two!\")\n",
        "#This is a comment\n",
        "  print(\"Hello,World\")  \n",
        "  myVar=\"John\"\n",
        "  b=\"Sally\" #This is a type of string"
      ]
    },
    {
      "cell_type": "code",
      "source": [
        "x = 1\n",
        "a,b=0,-1\n",
        "a = 9\n",
        "c = \"Sally\"\n",
        "c = \"Danny\"\n",
        "print(a)\n",
        "print(c)\n",
        "c = \"Maria\"\n",
        "print(c)\n"
      ],
      "metadata": {
        "colab": {
          "base_uri": "https://localhost:8080/"
        },
        "id": "N7jhgQ8UoNl1",
        "outputId": "0acafc75-3172-416b-ce0c-afab942cea36"
      },
      "execution_count": 10,
      "outputs": [
        {
          "output_type": "stream",
          "name": "stdout",
          "text": [
            "9\n",
            "Danny\n",
            "Danny\n"
          ]
        }
      ]
    },
    {
      "cell_type": "code",
      "source": [
        "d = int(4)\n",
        "print(b)\n",
        "e = float(4)\n",
        "print(e)\n"
      ],
      "metadata": {
        "colab": {
          "base_uri": "https://localhost:8080/"
        },
        "id": "XL360Uw0v3ZM",
        "outputId": "22eadd95-9840-47c8-f9ee-931702a0a51c"
      },
      "execution_count": 13,
      "outputs": [
        {
          "output_type": "stream",
          "name": "stdout",
          "text": [
            "-1\n",
            "4.0\n"
          ]
        }
      ]
    },
    {
      "cell_type": "markdown",
      "source": [
        "Type () function\n",
        "x = 5\n",
        "y = \"John\"\n",
        "print(type(x))\n",
        "print(type(y))"
      ],
      "metadata": {
        "id": "XX3zw9FkwXlp"
      }
    },
    {
      "cell_type": "code",
      "source": [
        "print(type(d))\n",
        "print(type(e))"
      ],
      "metadata": {
        "colab": {
          "base_uri": "https://localhost:8080/"
        },
        "id": "e8lTsa4xwmLM",
        "outputId": "2502b2a0-d389-4a00-8171-57747a2d0610"
      },
      "execution_count": 15,
      "outputs": [
        {
          "output_type": "stream",
          "name": "stdout",
          "text": [
            "<class 'int'>\n",
            "<class 'float'>\n"
          ]
        }
      ]
    },
    {
      "cell_type": "markdown",
      "source": [
        "\"Double quotes\" or 'Single quotes'"
      ],
      "metadata": {
        "id": "JrGCHUjExPQz"
      }
    },
    {
      "cell_type": "code",
      "source": [
        "f=\"Maria\"\n",
        "print(f)\n",
        "g = 'Ana'\n",
        "print(g)\n"
      ],
      "metadata": {
        "colab": {
          "base_uri": "https://localhost:8080/"
        },
        "id": "YBQpJTt8xVlG",
        "outputId": "052718ea-7f4c-4281-d953-1da88fd573c4"
      },
      "execution_count": 20,
      "outputs": [
        {
          "output_type": "stream",
          "name": "stdout",
          "text": [
            "Maria\n",
            "Ana\n"
          ]
        }
      ]
    },
    {
      "cell_type": "markdown",
      "source": [
        "Multiple Variable"
      ],
      "metadata": {
        "id": "nBmfvas3yFxV"
      }
    },
    {
      "cell_type": "code",
      "source": [
        "x,y,z=4,5,6\n",
        "print(x)\n",
        "print(y)\n",
        "print(z)\n"
      ],
      "metadata": {
        "colab": {
          "base_uri": "https://localhost:8080/"
        },
        "id": "vPDxkEvTySOr",
        "outputId": "87a30655-ed73-4386-cc25-68e4c9e9327e"
      },
      "execution_count": 25,
      "outputs": [
        {
          "output_type": "stream",
          "name": "stdout",
          "text": [
            "4\n",
            "5\n",
            "6\n",
            "lilo\n",
            "lilo\n"
          ]
        }
      ]
    },
    {
      "cell_type": "markdown",
      "source": [
        "SINGLE VALUE TO MULTIPLE VARIABLE\n"
      ],
      "metadata": {
        "id": "nK62W0ENzBoM"
      }
    },
    {
      "cell_type": "code",
      "source": [
        "x=y=z=\"lilo\"\n",
        "print(x)\n",
        "print(y)\n",
        "print(z)"
      ],
      "metadata": {
        "colab": {
          "base_uri": "https://localhost:8080/"
        },
        "id": "34qhQniazEuI",
        "outputId": "0ec0a72d-1f57-4db4-f1bd-6365c1e427a6"
      },
      "execution_count": 26,
      "outputs": [
        {
          "output_type": "stream",
          "name": "stdout",
          "text": [
            "lilo\n",
            "lilo\n",
            "lilo\n"
          ]
        }
      ]
    },
    {
      "cell_type": "markdown",
      "source": [
        "Output Variables"
      ],
      "metadata": {
        "id": "YFVazZxVzJiN"
      }
    },
    {
      "cell_type": "code",
      "source": [
        "s=\"Python is \"\n",
        "t=\"enjoying\"\n",
        "print(\"Python programming is \" + t)\n",
        "print(s+t)\n",
        "print(s+ '' +t)"
      ],
      "metadata": {
        "colab": {
          "base_uri": "https://localhost:8080/"
        },
        "id": "hADMieiSzMVT",
        "outputId": "2583e79c-2d20-414f-e847-7038bfc08352"
      },
      "execution_count": 34,
      "outputs": [
        {
          "output_type": "stream",
          "name": "stdout",
          "text": [
            "Python programming is enjoying\n",
            "Python is enjoying\n",
            "Python is enjoying\n"
          ]
        }
      ]
    },
    {
      "cell_type": "markdown",
      "source": [
        "Arithmetic Operations"
      ],
      "metadata": {
        "id": "xvEZxA730s3L"
      }
    },
    {
      "cell_type": "code",
      "source": [
        "x= 1\n",
        "y= 2\n",
        "sum = x+y\n",
        "sum\n",
        "sum\n",
        "sum\n",
        "x\n",
        "print(x+y)\n",
        "print(x)\n",
        "print(y)\n",
        "print(sum)\n",
        "\n",
        "#modulo\n",
        "l = 4%2\n",
        "print(\"4%2= \",l)\n",
        "\n",
        "#floor division\n",
        "k= 3//2\n",
        "print(\"3//2= \",k)"
      ],
      "metadata": {
        "colab": {
          "base_uri": "https://localhost:8080/"
        },
        "id": "DT_cNPMu0vF3",
        "outputId": "a8c3f0f5-2660-42ce-c5f2-a19f9e5b27fb"
      },
      "execution_count": 43,
      "outputs": [
        {
          "output_type": "stream",
          "name": "stdout",
          "text": [
            "3\n",
            "1\n",
            "2\n",
            "3\n",
            "4%2=  0\n",
            "3//2=  1\n"
          ]
        }
      ]
    },
    {
      "cell_type": "markdown",
      "source": [
        "Assignment Operator"
      ],
      "metadata": {
        "id": "qEcxcZGU3Yoh"
      }
    },
    {
      "cell_type": "code",
      "source": [
        "x+=1\n",
        "print(x)"
      ],
      "metadata": {
        "colab": {
          "base_uri": "https://localhost:8080/"
        },
        "id": "uOJXoBNo3aeg",
        "outputId": "3cbad845-157b-4d1b-edc0-34ad14f05b7c"
      },
      "execution_count": 44,
      "outputs": [
        {
          "output_type": "stream",
          "name": "stdout",
          "text": [
            "2\n"
          ]
        }
      ]
    },
    {
      "cell_type": "markdown",
      "source": [
        "Logical Operator"
      ],
      "metadata": {
        "id": "y_Bsii-95JFd"
      }
    },
    {
      "cell_type": "code",
      "source": [
        "q = 1\n",
        "r = 4\n",
        "\n",
        "q>r and r==r"
      ],
      "metadata": {
        "colab": {
          "base_uri": "https://localhost:8080/"
        },
        "id": "-z2j-Wj35Kvv",
        "outputId": "9e83706c-1f87-4c52-ee49-ffc1a30201bf"
      },
      "execution_count": 45,
      "outputs": [
        {
          "output_type": "execute_result",
          "data": {
            "text/plain": [
              "False"
            ]
          },
          "metadata": {},
          "execution_count": 45
        }
      ]
    }
  ]
}