{
  "nbformat": 4,
  "nbformat_minor": 0,
  "metadata": {
    "colab": {
      "provenance": [],
      "collapsed_sections": [],
      "authorship_tag": "ABX9TyOPGo19yM7MpF2fk3gcgADS",
      "include_colab_link": true
    },
    "kernelspec": {
      "name": "python3",
      "display_name": "Python 3"
    },
    "language_info": {
      "name": "python"
    }
  },
  "cells": [
    {
      "cell_type": "markdown",
      "metadata": {
        "id": "view-in-github",
        "colab_type": "text"
      },
      "source": [
        "<a href=\"https://colab.research.google.com/github/asherfrankluna/PLNG211-QC/blob/main/DataStructures_week4.ipynb\" target=\"_parent\"><img src=\"https://colab.research.google.com/assets/colab-badge.svg\" alt=\"Open In Colab\"/></a>"
      ]
    },
    {
      "cell_type": "markdown",
      "source": [
        "ARITHMETIC"
      ],
      "metadata": {
        "id": "gA7c1KD2-_zl"
      }
    },
    {
      "cell_type": "code",
      "source": [
        "#Increment\n",
        "a = 5\n",
        "a +=1\n",
        "print(a)\n",
        "\n",
        "#Decrement\n",
        "a = 5\n",
        "a -= 1\n",
        "print(a)\n",
        "\n",
        "#StringConcatenation\n",
        "a = 'Hello ' + 'World!'\n",
        "print(a)\n",
        "\n",
        "#ComplexExpressions\n",
        "\n",
        "a = 3 + 5 - 6 * 2/4\n",
        "print(a)"
      ],
      "metadata": {
        "colab": {
          "base_uri": "https://localhost:8080/"
        },
        "id": "-b8UENA8_C2f",
        "outputId": "6f0ddf2a-a8d5-4916-f2b6-b5232a75ed0d"
      },
      "execution_count": 15,
      "outputs": [
        {
          "output_type": "stream",
          "name": "stdout",
          "text": [
            "6\n",
            "4\n",
            "Hello World!\n",
            "5.0\n"
          ]
        }
      ]
    },
    {
      "cell_type": "markdown",
      "source": [
        "CONDITIONAL STATEMENTS"
      ],
      "metadata": {
        "id": "BqHRsM958NMh"
      }
    },
    {
      "cell_type": "code",
      "execution_count": 1,
      "metadata": {
        "colab": {
          "base_uri": "https://localhost:8080/"
        },
        "id": "R0xzj2lm7_ji",
        "outputId": "e1fd3712-1b8e-4e0e-e761-5eec157ab121"
      },
      "outputs": [
        {
          "output_type": "stream",
          "name": "stdout",
          "text": [
            "var x is True\n",
            "var x is Hello World!\n",
            "var x is an integer\n"
          ]
        }
      ],
      "source": [
        "#BooleanCond\n",
        "\n",
        "x= True\n",
        "if x:\n",
        "  print(\"var x is True\")\n",
        "else:\n",
        "  print(\"var x is False\")\n",
        "\n",
        "#StringCond\n",
        "\n",
        "x = \"Hello World!\"\n",
        "\n",
        "if x == 'Hello World!':\n",
        "  print(\"var x is Hello World!\")\n",
        "else: \n",
        "  print(\"var x is not Hello World!\")\n",
        "\n",
        "#numerical\n",
        "x = 10\n",
        "\n",
        "if x == '10':\n",
        "  print(\"var x is a string\")\n",
        "elif x == 10:\n",
        "  print(\"var x is an integer\")\n",
        "else:\n",
        "  print(\"var x is none of the above\")"
      ]
    },
    {
      "cell_type": "markdown",
      "source": [
        "LOOPS"
      ],
      "metadata": {
        "id": "BW6-EI-b9hJQ"
      }
    },
    {
      "cell_type": "code",
      "source": [
        "#ForLoops\n",
        "\n",
        "for var in range(0,5,2):\n",
        "  print(var)\n",
        "\n",
        "#WhileLoops\n",
        "var=0\n",
        "while var < 5:\n",
        "  print(var)\n",
        "  var +=2 \n",
        "#NestedLoops\n",
        "x = 0\n",
        "while x<5:\n",
        "  for y in range (0,x):\n",
        "    print(y,end='')\n",
        "  x+=1\n",
        "  print()\n",
        "\n"
      ],
      "metadata": {
        "colab": {
          "base_uri": "https://localhost:8080/"
        },
        "id": "Mllmnsg99iXo",
        "outputId": "c7fee60b-1400-4741-d972-42abde5117eb"
      },
      "execution_count": 4,
      "outputs": [
        {
          "output_type": "stream",
          "name": "stdout",
          "text": [
            "0\n",
            "2\n",
            "4\n",
            "0\n",
            "2\n",
            "4\n",
            "\n",
            "0\n",
            "01\n",
            "012\n",
            "0123\n"
          ]
        }
      ]
    },
    {
      "cell_type": "markdown",
      "source": [
        "LISTS"
      ],
      "metadata": {
        "id": "xlxFkrsjBnBB"
      }
    },
    {
      "cell_type": "code",
      "source": [
        "pi = 3.14159\n",
        "varList = [1,2,'A','B','Hello!',pi]\n",
        "print(varList[0])\n",
        "print(varList[4])\n",
        "varList.append('World!')\n",
        "print(varList[6])\n",
        "len(varList)\n",
        "print(varList[5])\n",
        "varList.remove(pi)\n",
        "print(varList[5])"
      ],
      "metadata": {
        "colab": {
          "base_uri": "https://localhost:8080/"
        },
        "id": "zPgIZml5BoH2",
        "outputId": "2a569cb2-56c7-4cd2-8e7a-522cc422e9f0"
      },
      "execution_count": 16,
      "outputs": [
        {
          "output_type": "stream",
          "name": "stdout",
          "text": [
            "1\n",
            "Hello!\n",
            "World!\n",
            "3.14159\n",
            "World!\n"
          ]
        }
      ]
    },
    {
      "cell_type": "markdown",
      "source": [
        "SLICING"
      ],
      "metadata": {
        "id": "j9X_ADB7CUy-"
      }
    },
    {
      "cell_type": "code",
      "source": [
        "varList= [1,2,3,4,5,6,7,8,9,10]\n",
        "print(varList[:5])\n",
        "print(varList [5:])\n",
        "print(varList[:-2])\n",
        "print(varList[-2:])\n",
        "print(varList[2:-2])\n",
        "print(varList[2:8:2])\n",
        "\n",
        "\n",
        "#list(start:), list(:end), list(start:end), list(start:end:start)"
      ],
      "metadata": {
        "colab": {
          "base_uri": "https://localhost:8080/"
        },
        "id": "wVohda2VCWFV",
        "outputId": "66c5853e-951e-46c6-e681-f11c73ad0122"
      },
      "execution_count": 21,
      "outputs": [
        {
          "output_type": "stream",
          "name": "stdout",
          "text": [
            "[1, 2, 3, 4, 5]\n",
            "[6, 7, 8, 9, 10]\n",
            "[1, 2, 3, 4, 5, 6, 7, 8]\n",
            "[9, 10]\n",
            "[3, 4, 5, 6, 7, 8]\n",
            "[3, 5, 7]\n"
          ]
        }
      ]
    },
    {
      "cell_type": "code",
      "source": [
        "var1,var2,var3 ='ABC','DEF','GHI'\n",
        "print(var1)\n",
        "print(var2)\n",
        "print(var3)\n",
        "\n",
        "a=b=c= \"123\"\n",
        "print(a)\n",
        "print(b)\n",
        "print(c)"
      ],
      "metadata": {
        "colab": {
          "base_uri": "https://localhost:8080/"
        },
        "id": "XJ-Ule9pF4PY",
        "outputId": "0d9e9fb4-4246-4a77-96bc-bdf2116b11ee"
      },
      "execution_count": 24,
      "outputs": [
        {
          "output_type": "stream",
          "name": "stdout",
          "text": [
            "ABC\n",
            "DEF\n",
            "GHI\n",
            "123\n",
            "123\n",
            "123\n"
          ]
        }
      ]
    }
  ]
}