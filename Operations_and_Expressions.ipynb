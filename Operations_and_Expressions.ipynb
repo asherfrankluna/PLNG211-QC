{
  "nbformat": 4,
  "nbformat_minor": 0,
  "metadata": {
    "colab": {
      "provenance": [],
      "collapsed_sections": [],
      "authorship_tag": "ABX9TyNlNypVW/RlWQ7mdXsQ+J5/",
      "include_colab_link": true
    },
    "kernelspec": {
      "name": "python3",
      "display_name": "Python 3"
    },
    "language_info": {
      "name": "python"
    }
  },
  "cells": [
    {
      "cell_type": "markdown",
      "metadata": {
        "id": "view-in-github",
        "colab_type": "text"
      },
      "source": [
        "<a href=\"https://colab.research.google.com/github/asherfrankluna/PLNG211-QC/blob/main/Operations_and_Expressions.ipynb\" target=\"_parent\"><img src=\"https://colab.research.google.com/assets/colab-badge.svg\" alt=\"Open In Colab\"/></a>"
      ]
    },
    {
      "cell_type": "markdown",
      "source": [
        "Boolean Operators\n",
        "\n",
        "represent one of two values: T or F (boolean answer)\n",
        "\n",
        "the bool() function allows you to evaluate any value, and give you T/F in return. e.g print(bool(\"Hello\"))"
      ],
      "metadata": {
        "id": "OKFaJPrhis2K"
      }
    },
    {
      "cell_type": "code",
      "execution_count": 4,
      "metadata": {
        "colab": {
          "base_uri": "https://localhost:8080/"
        },
        "id": "jKB5sU35hzEE",
        "outputId": "bb7c4dbd-c776-43f4-f250-10fd784bb732"
      },
      "outputs": [
        {
          "output_type": "stream",
          "name": "stdout",
          "text": [
            "True\n",
            "False\n",
            "False\n",
            "True\n"
          ]
        }
      ],
      "source": [
        "#Boolean operators\n",
        "a=10 #110\n",
        "b=9 #111 binary\n",
        "print (10>9)\n",
        "print (10==9)\n",
        "print (10<9)\n",
        "print (a!=b)\n",
        "\n",
        "\n"
      ]
    },
    {
      "cell_type": "markdown",
      "source": [
        "bool() function"
      ],
      "metadata": {
        "id": "c1OejZWrlbOo"
      }
    },
    {
      "cell_type": "code",
      "source": [
        "print(bool(15))\n",
        "print(bool(\"Asher\"))\n",
        "\n",
        "print(bool(0))\n",
        "print(bool(None))\n",
        "print(bool(False))\n",
        "\n"
      ],
      "metadata": {
        "colab": {
          "base_uri": "https://localhost:8080/"
        },
        "id": "jIQgxUjElff_",
        "outputId": "1101bc3f-4d31-422f-f66d-b86ec8510d9a"
      },
      "execution_count": 8,
      "outputs": [
        {
          "output_type": "stream",
          "name": "stdout",
          "text": [
            "True\n",
            "True\n",
            "False\n",
            "False\n",
            "False\n"
          ]
        }
      ]
    },
    {
      "cell_type": "markdown",
      "source": [
        "Function that returns a boolean"
      ],
      "metadata": {
        "id": "punMRMg9mKw_"
      }
    },
    {
      "cell_type": "code",
      "source": [
        "#Functions can return a Boolean\n",
        "def my_Function():\n",
        "   return True\n",
        "print(my_Function())\n",
        "\n",
        "\n",
        "def myFunction():\n",
        "   return False\n",
        "if myFunction():\n",
        "  print(\"YES!\")\n",
        "else:\n",
        "  print(\"NO!\")"
      ],
      "metadata": {
        "colab": {
          "base_uri": "https://localhost:8080/"
        },
        "id": "DCjj4VBZmPIP",
        "outputId": "0acc9a0d-6a3f-4267-e561-e8c4e112a837"
      },
      "execution_count": 13,
      "outputs": [
        {
          "output_type": "stream",
          "name": "stdout",
          "text": [
            "True\n",
            "NO!\n"
          ]
        }
      ]
    },
    {
      "cell_type": "markdown",
      "source": [
        "Application 1"
      ],
      "metadata": {
        "id": "GeGJG4z2nq8a"
      }
    },
    {
      "cell_type": "code",
      "source": [
        "c=6\n",
        "d=7\n",
        "print (c==d)\n",
        "print (c!=c)\n",
        "\n"
      ],
      "metadata": {
        "colab": {
          "base_uri": "https://localhost:8080/"
        },
        "id": "USxldzr_nu3H",
        "outputId": "b01b41cd-cf30-453f-8b72-755544076f93"
      },
      "execution_count": 16,
      "outputs": [
        {
          "output_type": "stream",
          "name": "stdout",
          "text": [
            "False\n",
            "False\n"
          ]
        }
      ]
    },
    {
      "cell_type": "markdown",
      "source": [
        "Python Operators\n",
        "\n",
        "used to perform operations on variables and values"
      ],
      "metadata": {
        "id": "tYb-wTk7pSMC"
      }
    },
    {
      "cell_type": "code",
      "source": [
        "print (10+9) #addition\n",
        "print (10-9) #subtraction\n",
        "print (10*9) #multiplication\n",
        "print (10/5) #division\n",
        "print (10//3) #floor division\n",
        "print (10%3) #remainder\n",
        "print (10**3)"
      ],
      "metadata": {
        "colab": {
          "base_uri": "https://localhost:8080/"
        },
        "id": "xrt18dPopZTo",
        "outputId": "cc8cae3a-991e-452e-d682-ee076b3392a8"
      },
      "execution_count": 20,
      "outputs": [
        {
          "output_type": "stream",
          "name": "stdout",
          "text": [
            "19\n",
            "1\n",
            "90\n",
            "2.0\n",
            "3\n",
            "1\n",
            "1000\n"
          ]
        }
      ]
    },
    {
      "cell_type": "markdown",
      "source": [
        "bitwise operator"
      ],
      "metadata": {
        "id": "0Pq-07dBtIQ4"
      }
    },
    {
      "cell_type": "code",
      "source": [
        "e=60\n",
        "f=13\n",
        "print (e&f)\n",
        "e & f"
      ],
      "metadata": {
        "colab": {
          "base_uri": "https://localhost:8080/"
        },
        "id": "8aFMNgyntJ0P",
        "outputId": "6bbf32c0-3285-4a1f-a7d4-777d2b4ba972"
      },
      "execution_count": 22,
      "outputs": [
        {
          "output_type": "stream",
          "name": "stdout",
          "text": [
            "12\n"
          ]
        },
        {
          "output_type": "execute_result",
          "data": {
            "text/plain": [
              "12"
            ]
          },
          "metadata": {},
          "execution_count": 22
        }
      ]
    },
    {
      "cell_type": "markdown",
      "source": [
        "python assignment operator"
      ],
      "metadata": {
        "id": "4OpnZatAt1l3"
      }
    },
    {
      "cell_type": "code",
      "source": [
        "x = 4\n",
        "x+=3 #x = x+3, x= 4+3 = 7\n",
        "print(\"x=\",x)"
      ],
      "metadata": {
        "colab": {
          "base_uri": "https://localhost:8080/"
        },
        "id": "qUW13mJPuyoX",
        "outputId": "c3a013bc-0003-4db2-8b02-7185b8d1a503"
      },
      "execution_count": 27,
      "outputs": [
        {
          "output_type": "stream",
          "name": "stdout",
          "text": [
            "x= 7\n"
          ]
        }
      ]
    },
    {
      "cell_type": "markdown",
      "source": [
        "Logical Operators"
      ],
      "metadata": {
        "id": "LMc3Rorpv6fn"
      }
    },
    {
      "cell_type": "code",
      "source": [
        "print ((4>3) and (5==5)) #and\n",
        "print ((6==6) or (6!=6)) #or"
      ],
      "metadata": {
        "colab": {
          "base_uri": "https://localhost:8080/"
        },
        "id": "p1TPjmkNv9Op",
        "outputId": "0f75c916-26f4-4b5c-95e1-e7a1a291c1d4"
      },
      "execution_count": 30,
      "outputs": [
        {
          "output_type": "stream",
          "name": "stdout",
          "text": [
            "True\n",
            "True\n"
          ]
        }
      ]
    },
    {
      "cell_type": "code",
      "source": [
        "print (4 is 4)\n",
        "print (7 is not 7)"
      ],
      "metadata": {
        "colab": {
          "base_uri": "https://localhost:8080/"
        },
        "id": "8h-rcCeVwmHn",
        "outputId": "acd26e50-b011-40eb-9f28-c102f5e951e2"
      },
      "execution_count": 34,
      "outputs": [
        {
          "output_type": "stream",
          "name": "stdout",
          "text": [
            "True\n",
            "False\n"
          ]
        }
      ]
    },
    {
      "cell_type": "markdown",
      "source": [
        "*CONDITIONAL STATEMENT IN PYTHON*"
      ],
      "metadata": {
        "id": "3RVCYARkw3WW"
      }
    },
    {
      "cell_type": "code",
      "source": [],
      "metadata": {
        "id": "ehXEWGbPw-ze"
      },
      "execution_count": null,
      "outputs": []
    }
  ]
}